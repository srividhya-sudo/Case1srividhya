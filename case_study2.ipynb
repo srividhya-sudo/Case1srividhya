{
  "nbformat": 4,
  "nbformat_minor": 0,
  "metadata": {
    "colab": {
      "private_outputs": true,
      "provenance": [],
      "authorship_tag": "ABX9TyNPioid3DHhFFHvMHVV3foP",
      "include_colab_link": true
    },
    "kernelspec": {
      "name": "python3",
      "display_name": "Python 3"
    },
    "language_info": {
      "name": "python"
    }
  },
  "cells": [
    {
      "cell_type": "markdown",
      "metadata": {
        "id": "view-in-github",
        "colab_type": "text"
      },
      "source": [
        "<a href=\"https://colab.research.google.com/github/srividhya-sudo/Case1srividhya/blob/main/case_study2.ipynb\" target=\"_parent\"><img src=\"https://colab.research.google.com/assets/colab-badge.svg\" alt=\"Open In Colab\"/></a>"
      ]
    },
    {
      "cell_type": "code",
      "execution_count": null,
      "metadata": {
        "id": "G8NqZmTPZGsM"
      },
      "outputs": [],
      "source": [
        "import pandas as sri\n",
        "import matplotlib.pyplot as gaye\n",
        "import seaborn as cse\n",
        "studyghost=sri.read_csv('heart.csv')\n",
        "print(studyghost)\n",
        "cse.scatterplot(x='age',y='cholestrol',data=studyghost,hue='target')\n",
        "gaye.title('heart attack')\n",
        "gaye.xlabel('age')\n",
        "gaye.ylabel('cholestrol')\n",
        "gaye.show()\n",
        "#boxplot\n",
        "cse.boxplot(x='gender',y='bp',data=studyghost)\n",
        "gaye.show()\n",
        "#linechart\n",
        "cse.lineplot(x='target',y='value',data=studyghost)\n",
        "gaye.show()\n",
        "#countplot (barchart)\n",
        "color=['yellow','purple']\n",
        "cse.countplot(x='target',data=studyghost,palette=color)\n",
        "gaye.show()\n",
        "\n",
        "cse.pairplot(studyghost)\n",
        "\n"
      ]
    }
  ]
}